{
 "cells": [
  {
   "cell_type": "markdown",
   "id": "d3bfc191-8885-42ee-b0a0-bbab867c6f9f",
   "metadata": {
    "tags": []
   },
   "source": [
    "# Lab | Flow Control"
   ]
  },
  {
   "cell_type": "markdown",
   "id": "3851fcd1-cf98-4653-9c89-e003b7ec9400",
   "metadata": {},
   "source": [
    "## Exercise: Managing Customer Orders Optimized\n",
    "\n",
    "In the last lab, you were starting an online store that sells various products. To ensure smooth operations, you developed a program that manages customer orders and inventory.\n",
    "\n",
    "You did so without using flow control. Let's go a step further and improve this code.\n",
    "\n",
    "Follow the steps below to complete the exercise:\n",
    "\n",
    "1. Look at your code from the lab data structures, and improve repeated code with loops.\n",
    "\n",
    "2. Instead of asking the user to input the name of three products that a customer wants to order, do the following:\n",
    "    \n",
    "    a. Prompt the user to enter the name of a product that a customer wants to order.\n",
    "    \n",
    "    b. Add the product name to the \"customer_orders\" set.\n",
    "    \n",
    "    c. Ask the user if they want to add another product (yes/no).\n",
    "    \n",
    "    d. Continue the loop until the user does not want to add another product.\n",
    "\n",
    "3. Instead of updating the inventory by subtracting 1 from the quantity of each product, only do it for  the products that were ordered (those in \"customer_orders\")."
   ]
  },
  {
   "cell_type": "code",
   "execution_count": 1,
   "id": "cdaa2f85-6c2c-4cc6-b9db-18bb7cec0ef2",
   "metadata": {},
   "outputs": [
    {
     "name": "stdin",
     "output_type": "stream",
     "text": [
      "Enter the quantity for t-shirt:  15\n"
     ]
    },
    {
     "name": "stdout",
     "output_type": "stream",
     "text": [
      "{'t-shirt': 15}\n"
     ]
    },
    {
     "name": "stdin",
     "output_type": "stream",
     "text": [
      "Enter the quantity for mug:  7\n"
     ]
    },
    {
     "name": "stdout",
     "output_type": "stream",
     "text": [
      "{'t-shirt': 15, 'mug': 7}\n"
     ]
    },
    {
     "name": "stdin",
     "output_type": "stream",
     "text": [
      "Enter the quantity for hat:  20\n"
     ]
    },
    {
     "name": "stdout",
     "output_type": "stream",
     "text": [
      "{'t-shirt': 15, 'mug': 7, 'hat': 20}\n"
     ]
    },
    {
     "name": "stdin",
     "output_type": "stream",
     "text": [
      "Enter the quantity for book:  50\n"
     ]
    },
    {
     "name": "stdout",
     "output_type": "stream",
     "text": [
      "{'t-shirt': 15, 'mug': 7, 'hat': 20, 'book': 50}\n"
     ]
    },
    {
     "name": "stdin",
     "output_type": "stream",
     "text": [
      "Enter the quantity for keychain:  21\n"
     ]
    },
    {
     "name": "stdout",
     "output_type": "stream",
     "text": [
      "{'t-shirt': 15, 'mug': 7, 'hat': 20, 'book': 50, 'keychain': 21}\n"
     ]
    }
   ],
   "source": [
    "products = [\"t-shirt\", \"mug\", \"hat\", \"book\", \"keychain\"]\n",
    "inventory = {}\n",
    "for products in products:\n",
    "    quantity = int (input (f\"Enter the quantity for {products}: \"))\n",
    "    inventory [products] = quantity\n",
    "    print (inventory)"
   ]
  },
  {
   "cell_type": "code",
   "execution_count": 2,
   "id": "f1132bbd-b7b4-434f-875a-d71ed4a061b5",
   "metadata": {},
   "outputs": [
    {
     "name": "stdin",
     "output_type": "stream",
     "text": [
      "Enter a Product:  mug\n"
     ]
    },
    {
     "name": "stdout",
     "output_type": "stream",
     "text": [
      "{'mug'}\n"
     ]
    },
    {
     "name": "stdin",
     "output_type": "stream",
     "text": [
      "Enter a Product:  hat\n"
     ]
    },
    {
     "name": "stdout",
     "output_type": "stream",
     "text": [
      "{'mug', 'hat'}\n"
     ]
    },
    {
     "name": "stdin",
     "output_type": "stream",
     "text": [
      "Enter a Product:  book\n"
     ]
    },
    {
     "name": "stdout",
     "output_type": "stream",
     "text": [
      "{'mug', 'book', 'hat'}\n"
     ]
    }
   ],
   "source": [
    "customer_order = set()\n",
    "for i in range (3):\n",
    "    product_name = input (\"Enter a Product: \")\n",
    "    customer_order.add(product_name)\n",
    "    print (customer_order)"
   ]
  },
  {
   "cell_type": "code",
   "execution_count": 3,
   "id": "efa4bb3f-3c89-4a3d-bb35-e63a8df3c7c0",
   "metadata": {},
   "outputs": [
    {
     "name": "stdout",
     "output_type": "stream",
     "text": [
      "14\n",
      "6\n",
      "19\n",
      "49\n",
      "20\n"
     ]
    }
   ],
   "source": [
    "for products in inventory:\n",
    "    inventory[products] -= 1\n",
    "    updated_inventory = (inventory [products])\n",
    "    print (updated_inventory)"
   ]
  },
  {
   "cell_type": "code",
   "execution_count": 4,
   "id": "551ee610-3dfb-425f-8345-d0acbbb56af8",
   "metadata": {},
   "outputs": [
    {
     "name": "stdin",
     "output_type": "stream",
     "text": [
      "Enter the product that you want to order:  mug\n",
      "Enter the product that you want to order:  hat\n",
      "Enter the product that you want to order:  key\n"
     ]
    },
    {
     "name": "stdout",
     "output_type": "stream",
     "text": [
      "'key' is not in the product list\n"
     ]
    },
    {
     "name": "stdin",
     "output_type": "stream",
     "text": [
      "Do you want to add another product? (yes/no) yes\n",
      "Enter the product that you want to order:  keychain\n",
      "Enter the product that you want to order:  mzg\n"
     ]
    },
    {
     "name": "stdout",
     "output_type": "stream",
     "text": [
      "'mzg' is not in the product list\n"
     ]
    },
    {
     "name": "stdin",
     "output_type": "stream",
     "text": [
      "Do you want to add another product? (yes/no) no\n"
     ]
    },
    {
     "name": "stdout",
     "output_type": "stream",
     "text": [
      "customer order: {'mug', 'hat'}\n"
     ]
    }
   ],
   "source": [
    "#2 \n",
    "products = [\"t-shirt\", \"mug\", \"hat\", \"book\", \"keychain\"]\n",
    "inventory = {}\n",
    "customer_order = set()\n",
    "\n",
    "while True:\n",
    "    product_name = input (\"Enter the product that you want to order: \")\n",
    "    if product_name in products:\n",
    "        customer_order.add(product_name)\n",
    "    else:\n",
    "        print(f\"'{product_name}' is not in the product list\")\n",
    "        another = input (\"Do you want to add another product? (yes/no)\")\n",
    "        if another == 'yes':\n",
    "            product_name = input (\"Enter the product that you want to order: \")\n",
    "        elif another !='yes':\n",
    "            break\n",
    "print (\"customer order:\", customer_order)"
   ]
  },
  {
   "cell_type": "code",
   "execution_count": 19,
   "id": "bdfcb711-9fd3-426f-bc51-367fe81b74b3",
   "metadata": {},
   "outputs": [
    {
     "name": "stdin",
     "output_type": "stream",
     "text": [
      "Enter the quantity for t-shirt:  50\n",
      "Enter the quantity for mug:  25\n",
      "Enter the quantity for hat:  60\n",
      "Enter the quantity for book:  30\n",
      "Enter the quantity for keychain:  20\n"
     ]
    },
    {
     "name": "stdout",
     "output_type": "stream",
     "text": [
      "Initial Inventory: {'t-shirt': 50, 'mug': 25, 'hat': 60, 'book': 30, 'keychain': 20}\n"
     ]
    },
    {
     "name": "stdin",
     "output_type": "stream",
     "text": [
      "Enter the product that you want to order:  mug\n",
      "Do you want to add another product? (yes/no):  yes\n",
      "Enter the product that you want to order:  hat\n",
      "Do you want to add another product? (yes/no):  ye\n"
     ]
    },
    {
     "name": "stdout",
     "output_type": "stream",
     "text": [
      "Customer Order: {'mug', 'hat'}\n",
      "Updated Inventory: {'t-shirt': 50, 'mug': 24, 'hat': 59, 'book': 30, 'keychain': 20}\n"
     ]
    }
   ],
   "source": [
    "products = [\"t-shirt\", \"mug\", \"hat\", \"book\", \"keychain\"]\n",
    "inventory = {}\n",
    "\n",
    "for product in products:\n",
    "    quantity = int(input(f\"Enter the quantity for {product}: \"))\n",
    "    inventory[product] = quantity\n",
    "\n",
    "print(\"Initial Inventory:\", inventory)\n",
    "\n",
    "customer_order = set()\n",
    "\n",
    "while True:\n",
    "    product_name = input(\"Enter the product that you want to order: \")\n",
    "\n",
    "    if product_name in products:\n",
    "        customer_order.add(product_name)\n",
    "    else:\n",
    "        print(f\"'{product_name}' is not in the product list.\")\n",
    "\n",
    "    another = input(\"Do you want to add another product? (yes/no): \")\n",
    "    if another != 'yes':\n",
    "        break\n",
    "\n",
    "for product in customer_order:\n",
    "    if inventory[product] > 0:\n",
    "        inventory[product] -= 1\n",
    "    else:\n",
    "        print(f\"'{product}' is out of stock!\")\n",
    "\n",
    "print(\"Customer Order:\", customer_order)\n",
    "print(\"Updated Inventory:\", inventory)"
   ]
  },
  {
   "cell_type": "code",
   "execution_count": null,
   "id": "046f911d-8c83-4893-b530-a1243642e550",
   "metadata": {},
   "outputs": [],
   "source": []
  }
 ],
 "metadata": {
  "kernelspec": {
   "display_name": "Python 3 (ipykernel)",
   "language": "python",
   "name": "python3"
  },
  "language_info": {
   "codemirror_mode": {
    "name": "ipython",
    "version": 3
   },
   "file_extension": ".py",
   "mimetype": "text/x-python",
   "name": "python",
   "nbconvert_exporter": "python",
   "pygments_lexer": "ipython3",
   "version": "3.12.4"
  }
 },
 "nbformat": 4,
 "nbformat_minor": 5
}
